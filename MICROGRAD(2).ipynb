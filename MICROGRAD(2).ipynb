{
  "nbformat": 4,
  "nbformat_minor": 0,
  "metadata": {
    "colab": {
      "provenance": []
    },
    "kernelspec": {
      "name": "python3",
      "display_name": "Python 3"
    },
    "language_info": {
      "name": "python"
    }
  },
  "cells": [
    {
      "cell_type": "markdown",
      "source": [
        "# When working with Neural networks, backpropagation needs to be performed. In practice, it is done using the command:\n",
        "  - loss.backward()\n",
        "  - backward() is a Pytorch functionality that does backporpagation for us.\n",
        "\n",
        "\n",
        "## But what really happens under the hood?\n",
        "  - Pytoch uses a library called AutoGrad to do backpropagation.\n",
        "\n",
        "## To get a real feel for back propagation, Andrej Karpathy devoloped Micrograd which is very similar to autograd in its functionality. This notebook is a re-implementation of Andrej's MicroGrad with clear explanations."
      ],
      "metadata": {
        "id": "zH5OR44B9RDh"
      }
    },
    {
      "cell_type": "code",
      "execution_count": null,
      "metadata": {
        "id": "OiZSdIJC9PHi"
      },
      "outputs": [],
      "source": [
        "### A Neural Netowrk is simply a huge mathematical expression (or rather humongous).\n",
        "#       The mathematical operations involved inside a neural net consists of simple\n",
        "#       additions, subtractions, multiplications and some non-linearities (like tanh).\n",
        "#\n",
        "### Each of the above operations is differentiable. So, gradients exist. The expression\n",
        "#       is optimized to reduce the loss of the neural net. To optimize, the network has\n",
        "#       has some parameters to adjust. The whole point of back propagation is to use the\n",
        "#       gradients to adjust these parameters, so that the loss is minimized. This process\n",
        "#       is demonstrated using simple scalar operations given below."
      ]
    },
    {
      "cell_type": "code",
      "source": [
        "# All necessary libraries are imported\n",
        "import math\n",
        "import numpy as np\n",
        "import random\n",
        "import matplotlib.pyplot as plt\n",
        "%matplotlib inline"
      ],
      "metadata": {
        "id": "jgYSB0Y9A3wm"
      },
      "execution_count": null,
      "outputs": []
    },
    {
      "cell_type": "code",
      "source": [
        "# A python function. A mathematical function implementation.\n",
        "def f(x):\n",
        "  return 3*x**2 - 4*x + 5"
      ],
      "metadata": {
        "id": "Q-5h2NVQA5oA"
      },
      "execution_count": null,
      "outputs": []
    },
    {
      "cell_type": "code",
      "source": [
        "f(3.0)"
      ],
      "metadata": {
        "colab": {
          "base_uri": "https://localhost:8080/"
        },
        "id": "lfIxhvL1A9uL",
        "outputId": "980e7429-1d6a-4e20-9d07-1dc630b72768"
      },
      "execution_count": null,
      "outputs": [
        {
          "output_type": "execute_result",
          "data": {
            "text/plain": [
              "20.0"
            ]
          },
          "metadata": {},
          "execution_count": 6
        }
      ]
    },
    {
      "cell_type": "code",
      "source": [
        "# Plotting the function\n",
        "xs = np.arange(-5, 5, 0.25)\n",
        "ys = f(xs)\n",
        "plt.plot(xs, ys)"
      ],
      "metadata": {
        "colab": {
          "base_uri": "https://localhost:8080/",
          "height": 448
        },
        "id": "Q8kJRq90BAgj",
        "outputId": "9e08235a-2e52-4832-ef33-aaa5fd0ac361"
      },
      "execution_count": null,
      "outputs": [
        {
          "output_type": "execute_result",
          "data": {
            "text/plain": [
              "[<matplotlib.lines.Line2D at 0x7da43303a140>]"
            ]
          },
          "metadata": {},
          "execution_count": 7
        },
        {
          "output_type": "display_data",
          "data": {
            "text/plain": [
              "<Figure size 640x480 with 1 Axes>"
            ],
            "image/png": "[encoded data removed]"
          },
          "metadata": {}
        }
      ]
    },
    {
      "cell_type": "code",
      "source": [
        "# Visualization of mathematical expression using graphs. This code is the graph builder\n",
        "import graphviz\n",
        "\n",
        "from graphviz import Digraph\n",
        "\n",
        "def trace(root):\n",
        "  # builds a set of all nodes and edges in a graph\n",
        "  nodes, edges = set(), set()\n",
        "  def build(v):\n",
        "    if v not in nodes:\n",
        "      nodes.add(v)\n",
        "      for child in v._prev:\n",
        "        edges.add((child, v))\n",
        "        build(child)\n",
        "  build(root)\n",
        "  return nodes, edges\n",
        "\n",
        "def draw_dot(root):\n",
        "  dot = Digraph(format='svg', graph_attr={'rankdir': 'LR'}) # LR = left to right\n",
        "\n",
        "  nodes, edges = trace(root)\n",
        "  for n in nodes:\n",
        "    uid = str(id(n))\n",
        "    # for any value in the graph, create a rectangular ('record') node for it\n",
        "    dot.node(name = uid, label = \"{ %s | data %.4f | grad %.4f }\" % (n.label, n.data, n.grad), shape='record')\n",
        "    if n._op:\n",
        "      # if this value is a result of some operation, create an op node for it\n",
        "      dot.node(name = uid + n._op, label = n._op)\n",
        "      # and connect this node to it\n",
        "      dot.edge(uid + n._op, uid)\n",
        "\n",
        "  for n1, n2 in edges:\n",
        "    # connect n1 to the op node of n2\n",
        "    dot.edge(str(id(n1)), str(id(n2)) + n2._op)\n",
        "\n",
        "  return dot"
      ],
      "metadata": {
        "id": "c2m6pfXEBAXm"
      },
      "execution_count": null,
      "outputs": []
    },
    {
      "cell_type": "code",
      "source": [
        "# A class named value is introduced. Simply these are numbers with an attribute named 'gradient'.\n",
        "class Value:\n",
        "\n",
        "    def __init__(self,data, _children=(), _op='', label=''):                    # Value has data in it, its children, the operation and the label.\n",
        "        self.data = data                                                        #   Eg: Value(a) + Value(b) = Value(c)\n",
        "        self._prev = set(_children)                                             #       Value(c) has data:c\n",
        "        self._backward = lambda: None                                           #                children:a,b\n",
        "        self.grad = 0.0                                                         #                   label:'c'\n",
        "        self._op = _op                                                          #                      op:'+'\n",
        "        self.label = label\n",
        "\n",
        "    def __repr__(self):\n",
        "        return f\"Value(data={self.data})\"\n",
        "\n",
        "    def __add__(self,other):                                                    # Keeping track of gradient of output with respect to inputs\n",
        "        other = other if isinstance(other, Value) else Value(other)             #   in the execution of addition operation ('+').\n",
        "        out = Value(self.data + other.data, (self, other), \"+\")\n",
        "        def _backward():                                                        # When _backward() is called, the gradients are calculated and\n",
        "            self.grad += out.grad                                               #    and stored. Precisely here, if loss = f(out) and\n",
        "            other.grad += out.grad                                              #    self + other = out, then\n",
        "        out._backward = _backward                                               #    d(loss)/d(self) = d(loss)/d(out) * d(out)/d(self). Which means\n",
        "        return out                                                              #       self.grad    =    out.grad    *     1.0\n",
        "\n",
        "    def __radd__(self,other):\n",
        "        return self+other\n",
        "\n",
        "    def __rsub__(self,other):\n",
        "        return self-other\n",
        "\n",
        "    def __sub__(self,other):\n",
        "        return self+ (-other)\n",
        "\n",
        "    def __neg__(self,other):\n",
        "        return self*(-1)\n",
        "\n",
        "    '''\n",
        "    a = Value(#)\n",
        "    b = Value(#)\n",
        "    a+b is internally interpreted by python as a.__add__(b)\n",
        "    '''\n",
        "    def __mul__(self,other):\n",
        "        other = other if isinstance(other, Value) else Value(other)             # Similar to addition, multiplication is another operation and\n",
        "        out = Value(self.data*other.data, (self,other), \"*\")                    #   gradients are kept track of.\n",
        "        def _backward():\n",
        "            self.grad += other.data * out.grad\n",
        "            other.grad += self.data * out.grad\n",
        "        out._backward = _backward\n",
        "        return out\n",
        "\n",
        "    def __rmul__(self,other):\n",
        "        return self*other\n",
        "\n",
        "    def __truediv__(self,other):\n",
        "        return self*other**(-1)\n",
        "\n",
        "    def __pow__(self,other):\n",
        "        assert isinstance(other,(int,float))\n",
        "        out = Value(self.data**other,(self,),f'**{other}')                      # d(x**(a))/d(a) = a*x**(a-1)\n",
        "        def _backward():\n",
        "            self.grad += other*(self.data**(other-1))*out.grad\n",
        "        out._backward = _backward\n",
        "        return out\n",
        "\n",
        "    def tanh(self):\n",
        "        x = self.data\n",
        "        t = (math.exp(2*x)-1)/(math.exp(2*x)+1)                                 # d(tanhx)/dx = 1 - (tanhx)**2\n",
        "        out = Value(t,(self,),'tanh')\n",
        "        def _backward():\n",
        "            self.grad += (1 - t**2)*out.grad\n",
        "        out._backward = _backward\n",
        "        return out\n",
        "\n",
        "    def exp(self):\n",
        "        x = self.data\n",
        "        t = math.exp(x)\n",
        "        out = Value(t,(self,),'exp')                                            # d(exp(x))/dx = exp(x)\n",
        "        def _backward():\n",
        "            self.grad += t * out.grad\n",
        "        out._backward = _backward\n",
        "        return out\n",
        "\n",
        "    def backward(self):\n",
        "\n",
        "        topo = []\n",
        "        visited = set()                                                         # After the entire mathematical operation is performed, the\n",
        "        def build_topo(v):                                                      #   operations are arranged in the order they are performed\n",
        "            if v not in visited:                                                #   for the gradients to flow backward correctly. The code\n",
        "                visited.add(v)                                                  #   here says to add a node to the list of nodes only after\n",
        "                for child in v._prev:                                           #   all its children nodes are added.\n",
        "                    build_topo(child)\n",
        "                topo.append(v)\n",
        "        build_topo(self)\n",
        "\n",
        "        self.grad = 1.0\n",
        "\n",
        "        for node in reversed(topo):                                             # Once the nodes are sorted, backward pass is done through the\n",
        "            node._backward()                                                    #   entire expression.\n"
      ],
      "metadata": {
        "id": "TW3Ql2ilBAWG"
      },
      "execution_count": null,
      "outputs": []
    },
    {
      "cell_type": "code",
      "source": [
        "# inputs\n",
        "x1 = Value(2.0, label='x1')\n",
        "x2 = Value(0.0, label='x2')\n",
        "# weights and biases\n",
        "w1 = Value(-3.0, label='w1')\n",
        "w2 = Value(1.0, label='w2')\n",
        "b = Value(6.8813735870195432, label='b')\n",
        "#neuron operation\n",
        "x1w1 = x1*w1; x1w1.label = 'x1*w1'\n",
        "x2w2 = x2*w2; x2w2.label = 'x2*w2'\n",
        "x1w1x2w2 = x1w1 + x2w2; x1w1x2w2.label = 'x1*w1 + x2*w2'\n",
        "n = x1w1x2w2 + b; n.label = 'n'\n",
        "o = n.tanh(); o.label = 'o'\n",
        "o.backward()                                                                    # Magic happens when this line is called. All gradients just\n",
        "draw_dot(o)                                                                     #     flew backward when this is called.\n"
      ],
      "metadata": {
        "colab": {
          "base_uri": "https://localhost:8080/",
          "height": 321
        },
        "id": "HNdORVVkBAUG",
        "outputId": "a3472fe7-4394-437a-d704-844f56e258f5"
      },
      "execution_count": null,
      "outputs": [
        {
          "output_type": "execute_result",
          "data": {
            "image/svg+xml": "<?xml version=\"1.0\" encoding=\"UTF-8\" standalone=\"no\"?>\n<!DOCTYPE svg PUBLIC \"-//W3C//DTD SVG 1.1//EN\"\n \"http://www.w3.org/Graphics/SVG/1.1/DTD/svg11.dtd\">\n<!-- Generated by graphviz version 2.43.0 (0)\n -->\n<!-- Title: %3 Pages: 1 -->\n<svg width=\"1575pt\" height=\"210pt\"\n viewBox=\"0.00 0.00 1575.00 210.00\" xmlns=\"http://www.w3.org/2000/svg\" xmlns:xlink=\"http://www.w3.org/1999/xlink\">\n<g id=\"graph0\" class=\"graph\" transform=\"scale(1 1) rotate(0) translate(4 206)\">\n<title>%3</title>\n<polygon fill=\"white\" stroke=\"transparent\" points=\"-4,4 -4,-206 1571,-206 1571,4 -4,4\"/>\n<!-- 138144136590336 -->\n<g id=\"node1\" class=\"node\">\n<title>138144136590336</title>\n<polygon fill=\"none\" stroke=\"black\" points=\"326,-55.5 326,-91.5 546,-91.5 546,-55.5 326,-55.5\"/>\n<text text-anchor=\"middle\" x=\"352.5\" y=\"-69.8\" font-family=\"Times,serif\" font-size=\"14.00\">x1*w1</text>\n<polyline fill=\"none\" stroke=\"black\" points=\"379,-55.5 379,-91.5 \"/>\n<text text-anchor=\"middle\" x=\"421.5\" y=\"-69.8\" font-family=\"Times,serif\" font-size=\"14.00\">data &#45;6.0000</text>\n<polyline fill=\"none\" stroke=\"black\" points=\"464,-55.5 464,-91.5 \"/>\n<text text-anchor=\"middle\" x=\"505\" y=\"-69.8\" font-family=\"Times,serif\" font-size=\"14.00\">grad 0.5000</text>\n</g>\n<!-- 138144136586016+ -->\n<g id=\"node11\" class=\"node\">\n<title>138144136586016+</title>\n<ellipse fill=\"none\" stroke=\"black\" cx=\"609\" cy=\"-100.5\" rx=\"27\" ry=\"18\"/>\n<text text-anchor=\"middle\" x=\"609\" y=\"-96.8\" font-family=\"Times,serif\" font-size=\"14.00\">+</text>\n</g>\n<!-- 138144136590336&#45;&gt;138144136586016+ -->\n<g id=\"edge8\" class=\"edge\">\n<title>138144136590336&#45;&gt;138144136586016+</title>\n<path fill=\"none\" stroke=\"black\" d=\"M546.27,-90.75C555.64,-92.23 564.6,-93.65 572.65,-94.92\"/>\n<polygon fill=\"black\" stroke=\"black\" points=\"572.23,-98.4 582.65,-96.5 573.32,-91.48 572.23,-98.4\"/>\n</g>\n<!-- 138144136590336* -->\n<g id=\"node2\" class=\"node\">\n<title>138144136590336*</title>\n<ellipse fill=\"none\" stroke=\"black\" cx=\"263\" cy=\"-73.5\" rx=\"27\" ry=\"18\"/>\n<text text-anchor=\"middle\" x=\"263\" y=\"-69.8\" font-family=\"Times,serif\" font-size=\"14.00\">*</text>\n</g>\n<!-- 138144136590336*&#45;&gt;138144136590336 -->\n<g id=\"edge1\" class=\"edge\">\n<title>138144136590336*&#45;&gt;138144136590336</title>\n<path fill=\"none\" stroke=\"black\" d=\"M290.34,-73.5C297.77,-73.5 306.37,-73.5 315.6,-73.5\"/>\n<polygon fill=\"black\" stroke=\"black\" points=\"315.84,-77 325.84,-73.5 315.84,-70 315.84,-77\"/>\n</g>\n<!-- 138144136583712 -->\n<g id=\"node3\" class=\"node\">\n<title>138144136583712</title>\n<polygon fill=\"none\" stroke=\"black\" points=\"2.5,-165.5 2.5,-201.5 197.5,-201.5 197.5,-165.5 2.5,-165.5\"/>\n<text text-anchor=\"middle\" x=\"19\" y=\"-179.8\" font-family=\"Times,serif\" font-size=\"14.00\">w2</text>\n<polyline fill=\"none\" stroke=\"black\" points=\"35.5,-165.5 35.5,-201.5 \"/>\n<text text-anchor=\"middle\" x=\"75.5\" y=\"-179.8\" font-family=\"Times,serif\" font-size=\"14.00\">data 1.0000</text>\n<polyline fill=\"none\" stroke=\"black\" points=\"115.5,-165.5 115.5,-201.5 \"/>\n<text text-anchor=\"middle\" x=\"156.5\" y=\"-179.8\" font-family=\"Times,serif\" font-size=\"14.00\">grad 0.0000</text>\n</g>\n<!-- 138144136588848* -->\n<g id=\"node5\" class=\"node\">\n<title>138144136588848*</title>\n<ellipse fill=\"none\" stroke=\"black\" cx=\"263\" cy=\"-128.5\" rx=\"27\" ry=\"18\"/>\n<text text-anchor=\"middle\" x=\"263\" y=\"-124.8\" font-family=\"Times,serif\" font-size=\"14.00\">*</text>\n</g>\n<!-- 138144136583712&#45;&gt;138144136588848* -->\n<g id=\"edge14\" class=\"edge\">\n<title>138144136583712&#45;&gt;138144136588848*</title>\n<path fill=\"none\" stroke=\"black\" d=\"M172.53,-165.44C181.84,-162.67 191.2,-159.67 200,-156.5 210.53,-152.71 221.75,-147.9 231.72,-143.33\"/>\n<polygon fill=\"black\" stroke=\"black\" points=\"233.25,-146.48 240.82,-139.07 230.28,-140.14 233.25,-146.48\"/>\n</g>\n<!-- 138144136588848 -->\n<g id=\"node4\" class=\"node\">\n<title>138144136588848</title>\n<polygon fill=\"none\" stroke=\"black\" points=\"328.5,-110.5 328.5,-146.5 543.5,-146.5 543.5,-110.5 328.5,-110.5\"/>\n<text text-anchor=\"middle\" x=\"355\" y=\"-124.8\" font-family=\"Times,serif\" font-size=\"14.00\">x2*w2</text>\n<polyline fill=\"none\" stroke=\"black\" points=\"381.5,-110.5 381.5,-146.5 \"/>\n<text text-anchor=\"middle\" x=\"421.5\" y=\"-124.8\" font-family=\"Times,serif\" font-size=\"14.00\">data 0.0000</text>\n<polyline fill=\"none\" stroke=\"black\" points=\"461.5,-110.5 461.5,-146.5 \"/>\n<text text-anchor=\"middle\" x=\"502.5\" y=\"-124.8\" font-family=\"Times,serif\" font-size=\"14.00\">grad 0.5000</text>\n</g>\n<!-- 138144136588848&#45;&gt;138144136586016+ -->\n<g id=\"edge10\" class=\"edge\">\n<title>138144136588848&#45;&gt;138144136586016+</title>\n<path fill=\"none\" stroke=\"black\" d=\"M543.84,-111.01C554.01,-109.34 563.76,-107.74 572.44,-106.32\"/>\n<polygon fill=\"black\" stroke=\"black\" points=\"573.17,-109.75 582.47,-104.68 572.04,-102.84 573.17,-109.75\"/>\n</g>\n<!-- 138144136588848*&#45;&gt;138144136588848 -->\n<g id=\"edge2\" class=\"edge\">\n<title>138144136588848*&#45;&gt;138144136588848</title>\n<path fill=\"none\" stroke=\"black\" d=\"M290.34,-128.5C298.51,-128.5 308.08,-128.5 318.36,-128.5\"/>\n<polygon fill=\"black\" stroke=\"black\" points=\"318.39,-132 328.39,-128.5 318.39,-125 318.39,-132\"/>\n</g>\n<!-- 138144136590960 -->\n<g id=\"node6\" class=\"node\">\n<title>138144136590960</title>\n<polygon fill=\"none\" stroke=\"black\" points=\"4,-110.5 4,-146.5 196,-146.5 196,-110.5 4,-110.5\"/>\n<text text-anchor=\"middle\" x=\"19\" y=\"-124.8\" font-family=\"Times,serif\" font-size=\"14.00\">x2</text>\n<polyline fill=\"none\" stroke=\"black\" points=\"34,-110.5 34,-146.5 \"/>\n<text text-anchor=\"middle\" x=\"74\" y=\"-124.8\" font-family=\"Times,serif\" font-size=\"14.00\">data 0.0000</text>\n<polyline fill=\"none\" stroke=\"black\" points=\"114,-110.5 114,-146.5 \"/>\n<text text-anchor=\"middle\" x=\"155\" y=\"-124.8\" font-family=\"Times,serif\" font-size=\"14.00\">grad 0.5000</text>\n</g>\n<!-- 138144136590960&#45;&gt;138144136588848* -->\n<g id=\"edge13\" class=\"edge\">\n<title>138144136590960&#45;&gt;138144136588848*</title>\n<path fill=\"none\" stroke=\"black\" d=\"M196.05,-128.5C206.52,-128.5 216.65,-128.5 225.71,-128.5\"/>\n<polygon fill=\"black\" stroke=\"black\" points=\"225.79,-132 235.79,-128.5 225.79,-125 225.79,-132\"/>\n</g>\n<!-- 138144136583904 -->\n<g id=\"node7\" class=\"node\">\n<title>138144136583904</title>\n<polygon fill=\"none\" stroke=\"black\" points=\"2,-55.5 2,-91.5 198,-91.5 198,-55.5 2,-55.5\"/>\n<text text-anchor=\"middle\" x=\"17\" y=\"-69.8\" font-family=\"Times,serif\" font-size=\"14.00\">x1</text>\n<polyline fill=\"none\" stroke=\"black\" points=\"32,-55.5 32,-91.5 \"/>\n<text text-anchor=\"middle\" x=\"72\" y=\"-69.8\" font-family=\"Times,serif\" font-size=\"14.00\">data 2.0000</text>\n<polyline fill=\"none\" stroke=\"black\" points=\"112,-55.5 112,-91.5 \"/>\n<text text-anchor=\"middle\" x=\"155\" y=\"-69.8\" font-family=\"Times,serif\" font-size=\"14.00\">grad &#45;1.5000</text>\n</g>\n<!-- 138144136583904&#45;&gt;138144136590336* -->\n<g id=\"edge6\" class=\"edge\">\n<title>138144136583904&#45;&gt;138144136590336*</title>\n<path fill=\"none\" stroke=\"black\" d=\"M198.37,-73.5C208.05,-73.5 217.4,-73.5 225.8,-73.5\"/>\n<polygon fill=\"black\" stroke=\"black\" points=\"225.91,-77 235.91,-73.5 225.91,-70 225.91,-77\"/>\n</g>\n<!-- 138144136591728 -->\n<g id=\"node8\" class=\"node\">\n<title>138144136591728</title>\n<polygon fill=\"none\" stroke=\"black\" points=\"1382,-109.5 1382,-145.5 1567,-145.5 1567,-109.5 1382,-109.5\"/>\n<text text-anchor=\"middle\" x=\"1393.5\" y=\"-123.8\" font-family=\"Times,serif\" font-size=\"14.00\">o</text>\n<polyline fill=\"none\" stroke=\"black\" points=\"1405,-109.5 1405,-145.5 \"/>\n<text text-anchor=\"middle\" x=\"1445\" y=\"-123.8\" font-family=\"Times,serif\" font-size=\"14.00\">data 0.7071</text>\n<polyline fill=\"none\" stroke=\"black\" points=\"1485,-109.5 1485,-145.5 \"/>\n<text text-anchor=\"middle\" x=\"1526\" y=\"-123.8\" font-family=\"Times,serif\" font-size=\"14.00\">grad 1.0000</text>\n</g>\n<!-- 138144136591728tanh -->\n<g id=\"node9\" class=\"node\">\n<title>138144136591728tanh</title>\n<ellipse fill=\"none\" stroke=\"black\" cx=\"1319\" cy=\"-127.5\" rx=\"27\" ry=\"18\"/>\n<text text-anchor=\"middle\" x=\"1319\" y=\"-123.8\" font-family=\"Times,serif\" font-size=\"14.00\">tanh</text>\n</g>\n<!-- 138144136591728tanh&#45;&gt;138144136591728 -->\n<g id=\"edge3\" class=\"edge\">\n<title>138144136591728tanh&#45;&gt;138144136591728</title>\n<path fill=\"none\" stroke=\"black\" d=\"M1346.04,-127.5C1353.58,-127.5 1362.3,-127.5 1371.57,-127.5\"/>\n<polygon fill=\"black\" stroke=\"black\" points=\"1371.81,-131 1381.81,-127.5 1371.81,-124 1371.81,-131\"/>\n</g>\n<!-- 138144136586016 -->\n<g id=\"node10\" class=\"node\">\n<title>138144136586016</title>\n<polygon fill=\"none\" stroke=\"black\" points=\"672,-82.5 672,-118.5 945,-118.5 945,-82.5 672,-82.5\"/>\n<text text-anchor=\"middle\" x=\"725\" y=\"-96.8\" font-family=\"Times,serif\" font-size=\"14.00\">x1*w1 + x2*w2</text>\n<polyline fill=\"none\" stroke=\"black\" points=\"778,-82.5 778,-118.5 \"/>\n<text text-anchor=\"middle\" x=\"820.5\" y=\"-96.8\" font-family=\"Times,serif\" font-size=\"14.00\">data &#45;6.0000</text>\n<polyline fill=\"none\" stroke=\"black\" points=\"863,-82.5 863,-118.5 \"/>\n<text text-anchor=\"middle\" x=\"904\" y=\"-96.8\" font-family=\"Times,serif\" font-size=\"14.00\">grad 0.5000</text>\n</g>\n<!-- 138144136585584+ -->\n<g id=\"node13\" class=\"node\">\n<title>138144136585584+</title>\n<ellipse fill=\"none\" stroke=\"black\" cx=\"1008\" cy=\"-127.5\" rx=\"27\" ry=\"18\"/>\n<text text-anchor=\"middle\" x=\"1008\" y=\"-123.8\" font-family=\"Times,serif\" font-size=\"14.00\">+</text>\n</g>\n<!-- 138144136586016&#45;&gt;138144136585584+ -->\n<g id=\"edge12\" class=\"edge\">\n<title>138144136586016&#45;&gt;138144136585584+</title>\n<path fill=\"none\" stroke=\"black\" d=\"M941.24,-118.51C952.12,-120 962.4,-121.4 971.45,-122.64\"/>\n<polygon fill=\"black\" stroke=\"black\" points=\"971.11,-126.13 981.49,-124.01 972.05,-119.19 971.11,-126.13\"/>\n</g>\n<!-- 138144136586016+&#45;&gt;138144136586016 -->\n<g id=\"edge4\" class=\"edge\">\n<title>138144136586016+&#45;&gt;138144136586016</title>\n<path fill=\"none\" stroke=\"black\" d=\"M636.23,-100.5C643.7,-100.5 652.41,-100.5 661.87,-100.5\"/>\n<polygon fill=\"black\" stroke=\"black\" points=\"661.98,-104 671.98,-100.5 661.98,-97 661.98,-104\"/>\n</g>\n<!-- 138144136585584 -->\n<g id=\"node12\" class=\"node\">\n<title>138144136585584</title>\n<polygon fill=\"none\" stroke=\"black\" points=\"1071,-109.5 1071,-145.5 1256,-145.5 1256,-109.5 1071,-109.5\"/>\n<text text-anchor=\"middle\" x=\"1082.5\" y=\"-123.8\" font-family=\"Times,serif\" font-size=\"14.00\">n</text>\n<polyline fill=\"none\" stroke=\"black\" points=\"1094,-109.5 1094,-145.5 \"/>\n<text text-anchor=\"middle\" x=\"1134\" y=\"-123.8\" font-family=\"Times,serif\" font-size=\"14.00\">data 0.8814</text>\n<polyline fill=\"none\" stroke=\"black\" points=\"1174,-109.5 1174,-145.5 \"/>\n<text text-anchor=\"middle\" x=\"1215\" y=\"-123.8\" font-family=\"Times,serif\" font-size=\"14.00\">grad 0.5000</text>\n</g>\n<!-- 138144136585584&#45;&gt;138144136591728tanh -->\n<g id=\"edge7\" class=\"edge\">\n<title>138144136585584&#45;&gt;138144136591728tanh</title>\n<path fill=\"none\" stroke=\"black\" d=\"M1256.01,-127.5C1265.01,-127.5 1273.74,-127.5 1281.66,-127.5\"/>\n<polygon fill=\"black\" stroke=\"black\" points=\"1281.91,-131 1291.91,-127.5 1281.91,-124 1281.91,-131\"/>\n</g>\n<!-- 138144136585584+&#45;&gt;138144136585584 -->\n<g id=\"edge5\" class=\"edge\">\n<title>138144136585584+&#45;&gt;138144136585584</title>\n<path fill=\"none\" stroke=\"black\" d=\"M1035.04,-127.5C1042.58,-127.5 1051.3,-127.5 1060.57,-127.5\"/>\n<polygon fill=\"black\" stroke=\"black\" points=\"1060.81,-131 1070.81,-127.5 1060.81,-124 1060.81,-131\"/>\n</g>\n<!-- 138144136592832 -->\n<g id=\"node14\" class=\"node\">\n<title>138144136592832</title>\n<polygon fill=\"none\" stroke=\"black\" points=\"716,-137.5 716,-173.5 901,-173.5 901,-137.5 716,-137.5\"/>\n<text text-anchor=\"middle\" x=\"727.5\" y=\"-151.8\" font-family=\"Times,serif\" font-size=\"14.00\">b</text>\n<polyline fill=\"none\" stroke=\"black\" points=\"739,-137.5 739,-173.5 \"/>\n<text text-anchor=\"middle\" x=\"779\" y=\"-151.8\" font-family=\"Times,serif\" font-size=\"14.00\">data 6.8814</text>\n<polyline fill=\"none\" stroke=\"black\" points=\"819,-137.5 819,-173.5 \"/>\n<text text-anchor=\"middle\" x=\"860\" y=\"-151.8\" font-family=\"Times,serif\" font-size=\"14.00\">grad 0.5000</text>\n</g>\n<!-- 138144136592832&#45;&gt;138144136585584+ -->\n<g id=\"edge11\" class=\"edge\">\n<title>138144136592832&#45;&gt;138144136585584+</title>\n<path fill=\"none\" stroke=\"black\" d=\"M901.02,-142.52C926,-138.98 951.59,-135.36 971.37,-132.55\"/>\n<polygon fill=\"black\" stroke=\"black\" points=\"972.03,-135.99 981.43,-131.12 971.04,-129.06 972.03,-135.99\"/>\n</g>\n<!-- 138144136583664 -->\n<g id=\"node15\" class=\"node\">\n<title>138144136583664</title>\n<polygon fill=\"none\" stroke=\"black\" points=\"0,-0.5 0,-36.5 200,-36.5 200,-0.5 0,-0.5\"/>\n<text text-anchor=\"middle\" x=\"16.5\" y=\"-14.8\" font-family=\"Times,serif\" font-size=\"14.00\">w1</text>\n<polyline fill=\"none\" stroke=\"black\" points=\"33,-0.5 33,-36.5 \"/>\n<text text-anchor=\"middle\" x=\"75.5\" y=\"-14.8\" font-family=\"Times,serif\" font-size=\"14.00\">data &#45;3.0000</text>\n<polyline fill=\"none\" stroke=\"black\" points=\"118,-0.5 118,-36.5 \"/>\n<text text-anchor=\"middle\" x=\"159\" y=\"-14.8\" font-family=\"Times,serif\" font-size=\"14.00\">grad 1.0000</text>\n</g>\n<!-- 138144136583664&#45;&gt;138144136590336* -->\n<g id=\"edge9\" class=\"edge\">\n<title>138144136583664&#45;&gt;138144136590336*</title>\n<path fill=\"none\" stroke=\"black\" d=\"M169.28,-36.5C179.65,-39.61 190.16,-42.98 200,-46.5 210.28,-50.17 221.28,-54.74 231.11,-59.07\"/>\n<polygon fill=\"black\" stroke=\"black\" points=\"229.93,-62.37 240.48,-63.27 232.79,-55.99 229.93,-62.37\"/>\n</g>\n</g>\n</svg>\n",
            "text/plain": [
              "<graphviz.graphs.Digraph at 0x7da430306950>"
            ]
          },
          "metadata": {},
          "execution_count": 11
        }
      ]
    },
    {
      "cell_type": "code",
      "source": [
        "class Neuron:\n",
        "\n",
        "    def __init__(self, nin):\n",
        "        self.w = [Value(random.uniform(-1,1)) for _ in range(nin)]              # A neuron is simply a mathematical operation similar to the ones\n",
        "        self.b = Value(random.uniform(-1,1))                                    #   implemented above. The call method states out the operation.\n",
        "\n",
        "    def __call__(self,x):\n",
        "        act = sum((wi*xi for wi, xi in zip(self.w,x)), self.b)\n",
        "        out = act.tanh()\n",
        "        return out\n",
        "    def parameters(self):\n",
        "        return self.w + [self.b]\n",
        "\n",
        "class Layer:                                                                    # To put some meat in the maths, a layer is introduced which is a\n",
        "                                                                                #    bunch of neurons stacked up and process paralelly.\n",
        "    def __init__(self,nin,nout):\n",
        "        self.neurons = [Neuron(nin) for _ in range(nout)]\n",
        "\n",
        "    def __call__(self,x):\n",
        "        outs = [n(x) for n in self.neurons]\n",
        "        return outs[0] if len(outs)==1 else outs\n",
        "\n",
        "    def parameters(self):\n",
        "        return [p for neuron in self.neurons for p in neuron.parameters()]\n",
        "\n",
        "\n",
        "class MLP:                                                                      # A bunch of layers connected to each other make up a Neural Network\n",
        "\n",
        "    def __init__(self,nin, nouts):                                              #  MLP stands for Multi-Layer-Perceptron which simply means a\n",
        "        sz = [nin] + nouts                                                      #  multiple layered neurons.\n",
        "        self.layers = [Layer(sz[i],sz[i+1]) for i in range(len(nouts))]\n",
        "\n",
        "    def __call__(self,x):\n",
        "        for layer in self.layers:\n",
        "            x = layer(x)\n",
        "        return x\n",
        "\n",
        "    def parameters(self):\n",
        "        return [p for layer in self.layers for p in layer.parameters()]"
      ],
      "metadata": {
        "id": "RX7jt6UjBASW"
      },
      "execution_count": null,
      "outputs": []
    },
    {
      "cell_type": "code",
      "source": [
        "net = MLP(3,[4,4,1])"
      ],
      "metadata": {
        "id": "HwnAh7AmBAQg"
      },
      "execution_count": null,
      "outputs": []
    },
    {
      "cell_type": "code",
      "source": [
        "#inputs\n",
        "xs = [\n",
        "  [2.0, 3.0, -1.0],\n",
        "  [3.0, -1.0, 0.5],\n",
        "  [0.5, 1.0, 1.0],\n",
        "  [1.0, 1.0, -1.0],\n",
        "]\n",
        "ys = [1.0, -1.0, -1.0, 1.0] # desired targets"
      ],
      "metadata": {
        "id": "9NygGT77BAOn"
      },
      "execution_count": null,
      "outputs": []
    },
    {
      "cell_type": "code",
      "source": [
        "#Finally, the network is implemeted and parameters are updated 200 times in the direction of negative gradient.\n",
        "#   The parameters go downhill in the loss curve when they move in the direction of negative gradient.\n",
        "for k in range(200):\n",
        "\n",
        "    #forward pass\n",
        "    ypred = [net(x) for x in xs]\n",
        "    loss = sum((ygt - yout)**2 for yout,ygt in zip(ypred,ys))\n",
        "\n",
        "    #backward pass\n",
        "    for p in net.parameters():\n",
        "        p.grad =0.0\n",
        "    loss.backward()\n",
        "\n",
        "    #update parameters\n",
        "    for p in net.parameters():\n",
        "        p.data += -0.1*p.grad\n",
        "\n",
        "    print(k,loss.data)"
      ],
      "metadata": {
        "colab": {
          "base_uri": "https://localhost:8080/"
        },
        "id": "jr70R8hjBAMw",
        "outputId": "f8233c03-0741-4739-e3c7-db970b57ac4c"
      },
      "execution_count": null,
      "outputs": [
        {
          "output_type": "stream",
          "name": "stdout",
          "text": [
            "0 5.727530792042895\n",
            "1 2.2611638879236478\n",
            "2 1.3695358137097995\n",
            "3 0.899521098947636\n",
            "4 0.20763863272233246\n",
            "5 0.1345955250395221\n",
            "6 0.1097952669536669\n",
            "7 0.09284437814087956\n",
            "8 0.08020391307079591\n",
            "9 0.07039401915479103\n",
            "10 0.06257075742692142\n",
            "11 0.05619825405603311\n",
            "12 0.05091668985693566\n",
            "13 0.046475063478751154\n",
            "14 0.04269300747670221\n",
            "15 0.039437694830039075\n",
            "16 0.03660924531036623\n",
            "17 0.03413118172572023\n",
            "18 0.03194400868486805\n",
            "19 0.030000785670342357\n",
            "20 0.028264009270190765\n",
            "21 0.026703375546408656\n",
            "22 0.025294146717159613\n",
            "23 0.024015940660172763\n",
            "24 0.022851821317329938\n",
            "25 0.021787606558686855\n",
            "26 0.0208113354251908\n",
            "27 0.019912853694050228\n",
            "28 0.019083488331990875\n",
            "29 0.018315789457055098\n",
            "30 0.017603324092722944\n",
            "31 0.016940510031743926\n",
            "32 0.01632248103504596\n",
            "33 0.015744976711309002\n",
            "34 0.015204251984984693\n",
            "35 0.014697002222945323\n",
            "36 0.01422030096287122\n",
            "37 0.013771547847719084\n",
            "38 0.013348424875586719\n",
            "39 0.012948859462897647\n",
            "40 0.012570993120063503\n",
            "41 0.01221315477389485\n",
            "42 0.011873837955727962\n",
            "43 0.011551681220228866\n",
            "44 0.011245451275909256\n",
            "45 0.010954028401191881\n",
            "46 0.010676393794455029\n",
            "47 0.010411618566743566\n",
            "48 0.010158854134747678\n",
            "49 0.009917323811540932\n",
            "50 0.00968631542524226\n",
            "51 0.009465174822643469\n",
            "52 0.009253300137041795\n",
            "53 0.009050136717921107\n",
            "54 0.008855172635443274\n",
            "55 0.008667934685503094\n",
            "56 0.008487984831822351\n",
            "57 0.008314917030574229\n",
            "58 0.008148354390634285\n",
            "59 0.007987946628989884\n",
            "60 0.007833367786301216\n",
            "61 0.007684314172256072\n",
            "62 0.007540502514327469\n",
            "63 0.007401668286938329\n",
            "64 0.007267564200951079\n",
            "65 0.007137958835904044\n",
            "66 0.007012635399578776\n",
            "67 0.006891390601347382\n",
            "68 0.006774033627367445\n",
            "69 0.006660385207095555\n",
            "70 0.006550276761811148\n",
            "71 0.006443549626908244\n",
            "72 0.006340054340640989\n",
            "73 0.006239649992824793\n",
            "74 0.006142203627706588\n",
            "75 0.0060475896958462625\n",
            "76 0.005955689550402102\n",
            "77 0.005866390983700396\n",
            "78 0.005779587800398051\n",
            "79 0.005695179423927707\n",
            "80 0.005613070533251373\n",
            "81 0.005533170727247339\n",
            "82 0.005455394214320199\n",
            "83 0.0053796595250611735\n",
            "84 0.005305889245995294\n",
            "85 0.00523400977264101\n",
            "86 0.005163951080275296\n",
            "87 0.005095646510948047\n",
            "88 0.005029032575423976\n",
            "89 0.004964048768851766\n",
            "90 0.004900637399068238\n",
            "91 0.004838743426543654\n",
            "92 0.004778314315062079\n",
            "93 0.00471929989230994\n",
            "94 0.0046616522196181705\n",
            "95 0.004605325470167441\n",
            "96 0.004550275815025109\n",
            "97 0.004496461316435458\n",
            "98 0.004443841827832597\n",
            "99 0.004392378900089891\n",
            "100 0.004342035693558556\n",
            "101 0.0042927768954847696\n",
            "102 0.0042445686424272865\n",
            "103 0.004197378447327575\n",
            "104 0.004151175130911675\n",
            "105 0.004105928757128018\n",
            "106 0.004061610572348224\n",
            "107 0.004018192948078609\n",
            "108 0.00397564932694933\n",
            "109 0.0039339541717655305\n",
            "110 0.003893082917420703\n",
            "111 0.0038530119254873638\n",
            "112 0.0038137184413136517\n",
            "113 0.003775180553466642\n",
            "114 0.0037373771553745085\n",
            "115 0.0037002879090309434\n",
            "116 0.00366389321063327\n",
            "117 0.0036281741580368914\n",
            "118 0.0035931125199142704\n",
            "119 0.003558690706516889\n",
            "120 0.0035248917419433757\n",
            "121 0.0034916992378248623\n",
            "122 0.003459097368344298\n",
            "123 0.0034270708465114386\n",
            "124 0.0033956049016213297\n",
            "125 0.003364685257827833\n",
            "126 0.0033342981137689837\n",
            "127 0.0033044301231846575\n",
            "128 0.003275068376470628\n",
            "129 0.0032462003831173715\n",
            "130 0.00321781405498416\n",
            "131 0.0031898976903632663\n",
            "132 0.003162439958790662\n",
            "133 0.0031354298865634627\n",
            "134 0.00310885684292595\n",
            "135 0.003082710526888568\n",
            "136 0.0030569809546465237\n",
            "137 0.0030316584475667025\n",
            "138 0.003006733620713068\n",
            "139 0.0029821973718829105\n",
            "140 0.002958040871127496\n",
            "141 0.0029342555507328068\n",
            "142 0.002910833095636718\n",
            "143 0.0028877654342608955\n",
            "144 0.002865044729736662\n",
            "145 0.002842663371505334\n",
            "146 0.002820613967274574\n",
            "147 0.0027988893353132964\n",
            "148 0.002777482497068917\n",
            "149 0.002756386670091035\n",
            "150 0.0027355952612472777\n",
            "151 0.00271510186021704\n",
            "152 0.002694900233250177\n",
            "153 0.0026749843171782702\n",
            "154 0.0026553482136663946\n",
            "155 0.002635986183694543\n",
            "156 0.0026168926422580263\n",
            "157 0.002598062153276649\n",
            "158 0.002579489424703453\n",
            "159 0.0025611693038238023\n",
            "160 0.0025430967727363696\n",
            "161 0.0025252669440077595\n",
            "162 0.002507675056493296\n",
            "163 0.002490316471316396\n",
            "164 0.002473186667999736\n",
            "165 0.002456281240741621\n",
            "166 0.0024395958948310583\n",
            "167 0.002423126443195843\n",
            "168 0.0024068688030777744\n",
            "169 0.0023908189928297\n",
            "170 0.002374973128829023\n",
            "171 0.0023593274225031874\n",
            "172 0.0023438781774620778\n",
            "173 0.0023286217867329487\n",
            "174 0.002313554730093867\n",
            "175 0.0022986735715015134\n",
            "176 0.0022839749566092296\n",
            "177 0.002269455610372063\n",
            "178 0.0022551123347350505\n",
            "179 0.002240942006401445\n",
            "180 0.002226941574677699\n",
            "181 0.0022131080593921003\n",
            "182 0.00219943854888429\n",
            "183 0.0021859301980627433\n",
            "184 0.0021725802265276004\n",
            "185 0.0021593859167562904\n",
            "186 0.002146344612349615\n",
            "187 0.0021334537163358344\n",
            "188 0.0021207106895305425\n",
            "189 0.0021081130489504774\n",
            "190 0.002095658366278676\n",
            "191 0.002083344266379695\n",
            "192 0.002071168425862564\n",
            "193 0.0020591285716897146\n",
            "194 0.002047222479830568\n",
            "195 0.002035447973957651\n",
            "196 0.0020238029241839263\n",
            "197 0.0020122852458398666\n",
            "198 0.0020008928982887695\n",
            "199 0.001989623883778812\n"
          ]
        }
      ]
    },
    {
      "cell_type": "code",
      "source": [
        "ypred"
      ],
      "metadata": {
        "colab": {
          "base_uri": "https://localhost:8080/"
        },
        "id": "iLl0SF1jBAK5",
        "outputId": "dc8bcaf0-c57b-43f4-fc47-c9f7c6477e32"
      },
      "execution_count": null,
      "outputs": [
        {
          "output_type": "execute_result",
          "data": {
            "text/plain": [
              "[Value(data=0.9805039293129436),\n",
              " Value(data=-0.9942674945252521),\n",
              " Value(data=-0.9696580210497071),\n",
              " Value(data=0.9743869211943179)]"
            ]
          },
          "metadata": {},
          "execution_count": 20
        }
      ]
    },
    {
      "cell_type": "code",
      "source": [],
      "metadata": {
        "id": "o9ISpsJEBAJH"
      },
      "execution_count": null,
      "outputs": []
    },
    {
      "cell_type": "code",
      "source": [],
      "metadata": {
        "id": "qfUESj-VBAHa"
      },
      "execution_count": null,
      "outputs": []
    }
  ]
}